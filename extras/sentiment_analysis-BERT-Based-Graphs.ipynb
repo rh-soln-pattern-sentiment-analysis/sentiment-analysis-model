{
 "cells": [
  {
   "cell_type": "code",
   "execution_count": 1,
   "id": "196fa66d-6049-4957-8093-eab6feb3b28f",
   "metadata": {},
   "outputs": [
    {
     "name": "stdout",
     "output_type": "stream",
     "text": [
      "Collecting TextBlob\n",
      "  Downloading textblob-0.17.1-py2.py3-none-any.whl (636 kB)\n",
      "\u001b[2K     \u001b[90m━━━━━━━━━━━━━━━━━━━━━━━━━━━━━━━━━━━━━\u001b[0m \u001b[32m636.8/636.8 kB\u001b[0m \u001b[31m116.3 MB/s\u001b[0m eta \u001b[36m0:00:00\u001b[0m\n",
      "\u001b[?25hCollecting nltk>=3.1\n",
      "  Downloading nltk-3.8.1-py3-none-any.whl (1.5 MB)\n",
      "\u001b[2K     \u001b[90m━━━━━━━━━━━━━━━━━━━━━━━━━━━━━━━━━━━━━━━━\u001b[0m \u001b[32m1.5/1.5 MB\u001b[0m \u001b[31m330.7 MB/s\u001b[0m eta \u001b[36m0:00:00\u001b[0m\n",
      "\u001b[?25hRequirement already satisfied: joblib in /opt/app-root/lib/python3.8/site-packages (from nltk>=3.1->TextBlob) (1.1.0)\n",
      "Requirement already satisfied: tqdm in /opt/app-root/lib/python3.8/site-packages (from nltk>=3.1->TextBlob) (4.64.0)\n",
      "Requirement already satisfied: regex>=2021.8.3 in /opt/app-root/lib/python3.8/site-packages (from nltk>=3.1->TextBlob) (2022.7.9)\n",
      "Requirement already satisfied: click in /opt/app-root/lib/python3.8/site-packages (from nltk>=3.1->TextBlob) (7.1.2)\n",
      "Installing collected packages: nltk, TextBlob\n",
      "Successfully installed TextBlob-0.17.1 nltk-3.8.1\n",
      "Note: you may need to restart the kernel to use updated packages.\n"
     ]
    }
   ],
   "source": [
    "pip install TextBlob"
   ]
  },
  {
   "cell_type": "code",
   "execution_count": 2,
   "id": "f28be643-8c8b-4b15-8e5a-18638d8aaeae",
   "metadata": {},
   "outputs": [],
   "source": [
    "from textblob import TextBlob\n",
    "import pandas as pd"
   ]
  },
  {
   "cell_type": "code",
   "execution_count": 3,
   "id": "c338fc5a-9b9c-4d1b-9d83-0cf87e3e17d2",
   "metadata": {},
   "outputs": [],
   "source": [
    "# Load the e-commerce store reviews dataset\n",
    "reviews_df = pd.read_csv('ecommerce_reviews1.csv')"
   ]
  },
  {
   "cell_type": "code",
   "execution_count": 4,
   "id": "395ef35f-3f23-4de1-a9b0-f5ce458dbe9b",
   "metadata": {},
   "outputs": [],
   "source": [
    "# Define a function to get the sentiment polarity of each review\n",
    "def get_review_sentiment(review):\n",
    "    # Create a TextBlob object for the review text\n",
    "    blob = TextBlob(review)\n",
    "    # Get the sentiment polarity of the review\n",
    "    sentiment_polarity = blob.sentiment.polarity\n",
    "    # Classify the sentiment polarity as positive, negative, or neutral\n",
    "    if sentiment_polarity > 0:\n",
    "        return 'positive'\n",
    "    elif sentiment_polarity < 0:\n",
    "        return 'negative'\n",
    "    else:\n",
    "        return 'neutral'"
   ]
  },
  {
   "cell_type": "code",
   "execution_count": 5,
   "id": "e6ab2e05-a605-4f42-b3ca-2d0ba0db8d22",
   "metadata": {},
   "outputs": [],
   "source": [
    "# Apply the sentiment analysis function to each review in the dataset\n",
    "reviews_df['sentiment'] = reviews_df['review_text'].apply(get_review_sentiment)"
   ]
  },
  {
   "cell_type": "code",
   "execution_count": 6,
   "id": "8e0c4283-9dcd-44ef-bef8-2b18a67f2ecf",
   "metadata": {},
   "outputs": [
    {
     "name": "stdout",
     "output_type": "stream",
     "text": [
      "Positive reviews: 5\n",
      "Negative reviews: 2\n",
      "Neutral reviews: 3\n"
     ]
    }
   ],
   "source": [
    "# Print the number of positive, negative, and neutral reviews\n",
    "print('Positive reviews:', len(reviews_df[reviews_df['sentiment'] == 'positive']))\n",
    "print('Negative reviews:', len(reviews_df[reviews_df['sentiment'] == 'negative']))\n",
    "print('Neutral reviews:', len(reviews_df[reviews_df['sentiment'] == 'neutral']))"
   ]
  },
  {
   "cell_type": "code",
   "execution_count": 7,
   "id": "bd3b01d7-2c0d-44fa-bdc9-4a2f1c9d1bc6",
   "metadata": {},
   "outputs": [
    {
     "data": {
      "image/png": "[encoded data removed]",
      "text/plain": [
       "<Figure size 432x288 with 1 Axes>"
      ]
     },
     "metadata": {
      "needs_background": "light"
     },
     "output_type": "display_data"
    }
   ],
   "source": [
    "import matplotlib.pyplot as plt\n",
    "\n",
    "# Count the number of positive, negative, and neutral reviews\n",
    "positive_reviews = len(reviews_df[reviews_df['sentiment'] == 'positive'])\n",
    "negative_reviews = len(reviews_df[reviews_df['sentiment'] == 'negative'])\n",
    "neutral_reviews = len(reviews_df[reviews_df['sentiment'] == 'neutral'])\n",
    "\n",
    "# Create a bar chart of the review sentiments\n",
    "plt.bar(['Positive', 'Negative', 'Neutral'], [positive_reviews, negative_reviews, neutral_reviews])\n",
    "plt.xlabel('Sentiment')\n",
    "plt.ylabel('Number of Reviews')\n",
    "plt.title('E-commerce Store Review Sentiment Analysis')\n",
    "plt.show()"
   ]
  },
  {
   "cell_type": "code",
   "execution_count": 8,
   "id": "602c7ca1-d121-4573-a56e-38be5fdb162c",
   "metadata": {},
   "outputs": [
    {
     "name": "stdout",
     "output_type": "stream",
     "text": [
      "Customer ID: 10001\n",
      "Sentiments: ['positive']\n",
      "Customer ID: 10002\n",
      "Sentiments: ['positive', 'positive', 'neutral']\n",
      "Customer ID: 10003\n",
      "Sentiments: ['positive']\n",
      "Customer ID: 10004\n",
      "Sentiments: ['negative']\n",
      "Customer ID: 10005\n",
      "Sentiments: ['neutral', 'positive']\n",
      "Customer ID: 10006\n",
      "Sentiments: ['neutral']\n",
      "Customer ID: 10007\n",
      "Sentiments: ['negative']\n"
     ]
    }
   ],
   "source": [
    "# Create a dictionary of customer IDs and their corresponding sentiment values\n",
    "customer_sentiments = {}\n",
    "for index, row in reviews_df.iterrows():\n",
    "    if row['customer_id'] not in customer_sentiments:\n",
    "        customer_sentiments[row['customer_id']] = []\n",
    "    customer_sentiments[row['customer_id']].append(row['sentiment'])\n",
    "\n",
    "# Print the customer IDs and their corresponding sentiment values\n",
    "for customer_id, sentiments in customer_sentiments.items():\n",
    "    print('Customer ID:', customer_id)\n",
    "    print('Sentiments:', sentiments)"
   ]
  },
  {
   "cell_type": "code",
   "execution_count": 9,
   "id": "4fa38be1-437b-45a0-8ee6-f05627e54a2f",
   "metadata": {},
   "outputs": [
    {
     "name": "stdout",
     "output_type": "stream",
     "text": [
      "Requirement already satisfied: transformers in /opt/app-root/lib/python3.8/site-packages (4.26.1)\n",
      "Requirement already satisfied: requests in /opt/app-root/lib/python3.8/site-packages (from transformers) (2.28.1)\n",
      "Requirement already satisfied: packaging>=20.0 in /opt/app-root/lib/python3.8/site-packages (from transformers) (21.3)\n",
      "Requirement already satisfied: tqdm>=4.27 in /opt/app-root/lib/python3.8/site-packages (from transformers) (4.64.0)\n",
      "Requirement already satisfied: numpy>=1.17 in /opt/app-root/lib/python3.8/site-packages (from transformers) (1.19.2)\n",
      "Requirement already satisfied: tokenizers!=0.11.3,<0.14,>=0.11.1 in /opt/app-root/lib/python3.8/site-packages (from transformers) (0.13.2)\n",
      "Requirement already satisfied: regex!=2019.12.17 in /opt/app-root/lib/python3.8/site-packages (from transformers) (2022.7.9)\n",
      "Requirement already satisfied: pyyaml>=5.1 in /opt/app-root/lib/python3.8/site-packages (from transformers) (5.4.1)\n",
      "Requirement already satisfied: huggingface-hub<1.0,>=0.11.0 in /opt/app-root/lib/python3.8/site-packages (from transformers) (0.12.1)\n",
      "Requirement already satisfied: filelock in /opt/app-root/lib/python3.8/site-packages (from transformers) (3.4.0)\n",
      "Requirement already satisfied: typing-extensions>=3.7.4.3 in /opt/app-root/lib/python3.8/site-packages (from huggingface-hub<1.0,>=0.11.0->transformers) (4.3.0)\n",
      "Requirement already satisfied: pyparsing!=3.0.5,>=2.0.2 in /opt/app-root/lib/python3.8/site-packages (from packaging>=20.0->transformers) (3.0.9)\n",
      "Requirement already satisfied: urllib3<1.27,>=1.21.1 in /opt/app-root/lib/python3.8/site-packages (from requests->transformers) (1.26.10)\n",
      "Requirement already satisfied: charset-normalizer<3,>=2 in /opt/app-root/lib/python3.8/site-packages (from requests->transformers) (2.1.0)\n",
      "Requirement already satisfied: certifi>=2017.4.17 in /opt/app-root/lib/python3.8/site-packages (from requests->transformers) (2022.6.15)\n",
      "Requirement already satisfied: idna<4,>=2.5 in /opt/app-root/lib/python3.8/site-packages (from requests->transformers) (3.3)\n",
      "Note: you may need to restart the kernel to use updated packages.\n"
     ]
    }
   ],
   "source": [
    "pip install transformers"
   ]
  },
  {
   "cell_type": "code",
   "execution_count": null,
   "id": "c47a81a8-02d0-480f-91e5-5d1a7fdf5553",
   "metadata": {},
   "outputs": [],
   "source": []
  },
  {
   "cell_type": "code",
   "execution_count": null,
   "id": "757efd7f-9394-4970-9d2d-e7c728c46f2f",
   "metadata": {},
   "outputs": [],
   "source": []
  },
  {
   "cell_type": "code",
   "execution_count": 10,
   "id": "824baabc-e843-4610-b59b-011e48e61484",
   "metadata": {},
   "outputs": [],
   "source": [
    "from platform import python_version"
   ]
  },
  {
   "cell_type": "code",
   "execution_count": 11,
   "id": "b64f0fc6-7cde-4a01-9915-826bae0da5de",
   "metadata": {},
   "outputs": [
    {
     "data": {
      "text/plain": [
       "'3.8.13'"
      ]
     },
     "execution_count": 11,
     "metadata": {},
     "output_type": "execute_result"
    }
   ],
   "source": [
    "python_version()"
   ]
  },
  {
   "cell_type": "code",
   "execution_count": 12,
   "id": "e5dbd6e7-b6b2-48fe-9b6c-9bb02d40e2a2",
   "metadata": {},
   "outputs": [
    {
     "name": "stdout",
     "output_type": "stream",
     "text": [
      "Requirement already satisfied: pip in /opt/app-root/lib/python3.8/site-packages (23.0.1)\n",
      "Note: you may need to restart the kernel to use updated packages.\n"
     ]
    }
   ],
   "source": [
    "pip install --upgrade pip"
   ]
  },
  {
   "cell_type": "code",
   "execution_count": 13,
   "id": "e2f10d49-7781-4a47-9c38-502687ffe6e4",
   "metadata": {},
   "outputs": [
    {
     "name": "stdout",
     "output_type": "stream",
     "text": [
      "Customer ID: 10001\n",
      "Sentiments: ['4 stars']\n",
      "Customer ID: 10002\n",
      "Sentiments: ['5 stars', '5 stars', '2 stars']\n",
      "Customer ID: 10003\n",
      "Sentiments: ['1 star']\n",
      "Customer ID: 10004\n",
      "Sentiments: ['1 star']\n",
      "Customer ID: 10005\n",
      "Sentiments: ['1 star', '5 stars']\n",
      "Customer ID: 10006\n",
      "Sentiments: ['5 stars']\n",
      "Customer ID: 10007\n",
      "Sentiments: ['1 star']\n"
     ]
    }
   ],
   "source": [
    "import pandas as pd\n",
    "from transformers import pipeline\n",
    "\n",
    "# Load the e-commerce store reviews dataset\n",
    "reviews_df = pd.read_csv('ecommerce_reviews1.csv')\n",
    "\n",
    "# Load the BERT-based sentiment analysis model\n",
    "model = pipeline('sentiment-analysis', model='nlptown/bert-base-multilingual-uncased-sentiment')\n",
    "\n",
    "# Define a function to get the sentiment of each review using the BERT model\n",
    "def get_review_sentiment(review):\n",
    "    # Use the BERT model to predict the sentiment of the review\n",
    "    sentiment = model(review)[0]\n",
    "    # Return the sentiment label\n",
    "    return sentiment['label']\n",
    "\n",
    "# Apply the sentiment analysis function to each review in the dataset\n",
    "reviews_df['sentiment'] = reviews_df['review_text'].apply(get_review_sentiment)\n",
    "\n",
    "# Create a dictionary of customer IDs and their corresponding sentiment values\n",
    "customer_sentiments = {}\n",
    "for index, row in reviews_df.iterrows():\n",
    "    if row['customer_id'] not in customer_sentiments:\n",
    "        customer_sentiments[row['customer_id']] = []\n",
    "    customer_sentiments[row['customer_id']].append(row['sentiment'])\n",
    "\n",
    "# Print the customer IDs and their corresponding sentiment values\n",
    "for customer_id, sentiments in customer_sentiments.items():\n",
    "    print('Customer ID:', customer_id)\n",
    "    print('Sentiments:', sentiments)"
   ]
  },
  {
   "cell_type": "code",
   "execution_count": 14,
   "id": "60ec3d81-9d2b-42c4-8eac-0c27f889b182",
   "metadata": {},
   "outputs": [
    {
     "data": {
      "image/png": "[encoded data removed]",
      "text/plain": [
       "<Figure size 720x432 with 1 Axes>"
      ]
     },
     "metadata": {
      "needs_background": "light"
     },
     "output_type": "display_data"
    }
   ],
   "source": [
    "import matplotlib.pyplot as plt\n",
    "\n",
    "# Create a bar chart of the sentiments for each customer\n",
    "fig, ax = plt.subplots(figsize=(10, 6))\n",
    "ax.bar(customer_sentiments.keys(), [len(sentiments) for sentiments in customer_sentiments.values()])\n",
    "ax.set_xlabel('Customer ID')\n",
    "ax.set_ylabel('Number of Reviews')\n",
    "ax.set_title('Sentiments of E-commerce Store Reviews by Customer')\n",
    "plt.show()"
   ]
  },
  {
   "cell_type": "code",
   "execution_count": 15,
   "id": "070df1e7-fbcb-4184-b9c5-870b66c323d2",
   "metadata": {},
   "outputs": [
    {
     "data": {
      "image/png": "[encoded data removed]",
      "text/plain": [
       "<Figure size 432x288 with 1 Axes>"
      ]
     },
     "metadata": {
      "needs_background": "light"
     },
     "output_type": "display_data"
    }
   ],
   "source": [
    "import pandas as pd\n",
    "from transformers import pipeline\n",
    "import matplotlib.pyplot as plt\n",
    "\n",
    "# Load the e-commerce store reviews dataset\n",
    "reviews_df = pd.read_csv('ecommerce_reviews1.csv')\n",
    "\n",
    "# Load the BERT-based sentiment analysis model\n",
    "model = pipeline('sentiment-analysis', model='nlptown/bert-base-multilingual-uncased-sentiment')\n",
    "\n",
    "# Define a function to get the sentiment of each review using the BERT model\n",
    "def get_review_sentiment(review):\n",
    "    # Use the BERT model to predict the sentiment of the review\n",
    "    sentiment = model(review)[0]\n",
    "    # Return the sentiment label\n",
    "    return sentiment['label']\n",
    "\n",
    "# Apply the sentiment analysis function to each review in the dataset\n",
    "reviews_df['sentiment'] = reviews_df['review_text'].apply(get_review_sentiment)\n",
    "\n",
    "# Create a dictionary to store the sentiment counts for each customer\n",
    "customer_sentiments = {}\n",
    "sentiment_values = ['1 star', '2 stars', '3 stars', '4 stars', '5 stars']\n",
    "\n",
    "# Initialize the sentiment count for each customer to zero\n",
    "for customer_id in reviews_df['customer_id'].unique():\n",
    "    customer_sentiments[customer_id] = {sentiment: 0 for sentiment in sentiment_values}\n",
    "\n",
    "# Count the number of reviews for each sentiment for each customer\n",
    "for index, row in reviews_df.iterrows():\n",
    "    customer_id = row['customer_id']\n",
    "    sentiment = row['sentiment']\n",
    "    customer_sentiments[customer_id][sentiment] += 1\n",
    "\n",
    "# Convert the dictionary to a pandas DataFrame\n",
    "customer_sentiments_df = pd.DataFrame(customer_sentiments).T\n",
    "\n",
    "# Plot the sentiment count chart\n",
    "ax = customer_sentiments_df.plot(kind='bar', stacked=True)\n",
    "\n",
    "ax.set_xlabel('Customer ID')\n",
    "ax.set_ylabel('Start Rating')\n",
    "ax.set_title('Sentiments of E-commerce Store Reviews by Customer')\n",
    "ax.legend()\n",
    "plt.show()\n"
   ]
  },
  {
   "cell_type": "code",
   "execution_count": null,
   "id": "efb9d7bb-16cd-4525-97c0-8303162b9818",
   "metadata": {},
   "outputs": [],
   "source": []
  }
 ],
 "metadata": {
  "kernelspec": {
   "display_name": "Python 3 (ipykernel)",
   "language": "python",
   "name": "python3"
  },
  "language_info": {
   "codemirror_mode": {
    "name": "ipython",
    "version": 3
   },
   "file_extension": ".py",
   "mimetype": "text/x-python",
   "name": "python",
   "nbconvert_exporter": "python",
   "pygments_lexer": "ipython3",
   "version": "3.8.13"
  }
 },
 "nbformat": 4,
 "nbformat_minor": 5
}
