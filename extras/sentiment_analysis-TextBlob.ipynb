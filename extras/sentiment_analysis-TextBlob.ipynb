{
 "cells": [
  {
   "cell_type": "code",
   "execution_count": 2,
   "id": "196fa66d-6049-4957-8093-eab6feb3b28f",
   "metadata": {},
   "outputs": [
    {
     "name": "stdout",
     "output_type": "stream",
     "text": [
      "Requirement already satisfied: TextBlob in /opt/app-root/lib/python3.8/site-packages (0.17.1)\n",
      "Requirement already satisfied: nltk>=3.1 in /opt/app-root/lib/python3.8/site-packages (from TextBlob) (3.8.1)\n",
      "Requirement already satisfied: tqdm in /opt/app-root/lib/python3.8/site-packages (from nltk>=3.1->TextBlob) (4.62.3)\n",
      "Requirement already satisfied: click in /opt/app-root/lib/python3.8/site-packages (from nltk>=3.1->TextBlob) (8.0.3)\n",
      "Requirement already satisfied: joblib in /opt/app-root/lib/python3.8/site-packages (from nltk>=3.1->TextBlob) (1.1.0)\n",
      "Requirement already satisfied: regex>=2021.8.3 in /opt/app-root/lib/python3.8/site-packages (from nltk>=3.1->TextBlob) (2021.11.10)\n",
      "\u001b[33mWARNING: You are using pip version 21.3.1; however, version 23.0.1 is available.\n",
      "You should consider upgrading via the '/opt/app-root/bin/python3.8 -m pip install --upgrade pip' command.\u001b[0m\n",
      "Note: you may need to restart the kernel to use updated packages.\n"
     ]
    }
   ],
   "source": [
    "pip install TextBlob"
   ]
  },
  {
   "cell_type": "code",
   "execution_count": 4,
   "id": "f28be643-8c8b-4b15-8e5a-18638d8aaeae",
   "metadata": {},
   "outputs": [],
   "source": [
    "from textblob import TextBlob\n",
    "import pandas as pd"
   ]
  },
  {
   "cell_type": "code",
   "execution_count": 21,
   "id": "c338fc5a-9b9c-4d1b-9d83-0cf87e3e17d2",
   "metadata": {},
   "outputs": [],
   "source": [
    "# Load the e-commerce store reviews dataset\n",
    "reviews_df = pd.read_csv('ecommerce_reviews1.csv')"
   ]
  },
  {
   "cell_type": "code",
   "execution_count": 22,
   "id": "395ef35f-3f23-4de1-a9b0-f5ce458dbe9b",
   "metadata": {},
   "outputs": [],
   "source": [
    "# Define a function to get the sentiment polarity of each review\n",
    "def get_review_sentiment(review):\n",
    "    # Create a TextBlob object for the review text\n",
    "    blob = TextBlob(review)\n",
    "    # Get the sentiment polarity of the review\n",
    "    sentiment_polarity = blob.sentiment.polarity\n",
    "    # Classify the sentiment polarity as positive, negative, or neutral\n",
    "    if sentiment_polarity > 0:\n",
    "        return 'positive'\n",
    "    elif sentiment_polarity < 0:\n",
    "        return 'negative'\n",
    "    else:\n",
    "        return 'neutral'"
   ]
  },
  {
   "cell_type": "code",
   "execution_count": 23,
   "id": "e6ab2e05-a605-4f42-b3ca-2d0ba0db8d22",
   "metadata": {},
   "outputs": [],
   "source": [
    "# Apply the sentiment analysis function to each review in the dataset\n",
    "reviews_df['sentiment'] = reviews_df['review_text'].apply(get_review_sentiment)"
   ]
  },
  {
   "cell_type": "code",
   "execution_count": 24,
   "id": "8e0c4283-9dcd-44ef-bef8-2b18a67f2ecf",
   "metadata": {},
   "outputs": [
    {
     "name": "stdout",
     "output_type": "stream",
     "text": [
      "Positive reviews: 3\n",
      "Negative reviews: 2\n",
      "Neutral reviews: 2\n"
     ]
    }
   ],
   "source": [
    "# Print the number of positive, negative, and neutral reviews\n",
    "print('Positive reviews:', len(reviews_df[reviews_df['sentiment'] == 'positive']))\n",
    "print('Negative reviews:', len(reviews_df[reviews_df['sentiment'] == 'negative']))\n",
    "print('Neutral reviews:', len(reviews_df[reviews_df['sentiment'] == 'neutral']))"
   ]
  },
  {
   "cell_type": "code",
   "execution_count": 26,
   "id": "bd3b01d7-2c0d-44fa-bdc9-4a2f1c9d1bc6",
   "metadata": {},
   "outputs": [
    {
     "data": {
      "image/png": "[encoded data removed]",
      "text/plain": [
       "<Figure size 432x288 with 1 Axes>"
      ]
     },
     "metadata": {
      "needs_background": "light"
     },
     "output_type": "display_data"
    }
   ],
   "source": [
    "import matplotlib.pyplot as plt\n",
    "\n",
    "# Count the number of positive, negative, and neutral reviews\n",
    "positive_reviews = len(reviews_df[reviews_df['sentiment'] == 'positive'])\n",
    "negative_reviews = len(reviews_df[reviews_df['sentiment'] == 'negative'])\n",
    "neutral_reviews = len(reviews_df[reviews_df['sentiment'] == 'neutral'])\n",
    "\n",
    "# Create a bar chart of the review sentiments\n",
    "plt.bar(['Positive', 'Negative', 'Neutral'], [positive_reviews, negative_reviews, neutral_reviews])\n",
    "plt.xlabel('Sentiment')\n",
    "plt.ylabel('Number of Reviews')\n",
    "plt.title('E-commerce Store Review Sentiment Analysis')\n",
    "plt.show()"
   ]
  },
  {
   "cell_type": "code",
   "execution_count": 27,
   "id": "602c7ca1-d121-4573-a56e-38be5fdb162c",
   "metadata": {},
   "outputs": [
    {
     "name": "stdout",
     "output_type": "stream",
     "text": [
      "Customer ID: 10001\n",
      "Sentiments: ['positive']\n",
      "Customer ID: 10002\n",
      "Sentiments: ['positive']\n",
      "Customer ID: 10003\n",
      "Sentiments: ['positive']\n",
      "Customer ID: 10004\n",
      "Sentiments: ['negative']\n",
      "Customer ID: 10005\n",
      "Sentiments: ['neutral']\n",
      "Customer ID: 10006\n",
      "Sentiments: ['neutral']\n",
      "Customer ID: 10007\n",
      "Sentiments: ['negative']\n"
     ]
    }
   ],
   "source": [
    "# Create a dictionary of customer IDs and their corresponding sentiment values\n",
    "customer_sentiments = {}\n",
    "for index, row in reviews_df.iterrows():\n",
    "    if row['customer_id'] not in customer_sentiments:\n",
    "        customer_sentiments[row['customer_id']] = []\n",
    "    customer_sentiments[row['customer_id']].append(row['sentiment'])\n",
    "\n",
    "# Print the customer IDs and their corresponding sentiment values\n",
    "for customer_id, sentiments in customer_sentiments.items():\n",
    "    print('Customer ID:', customer_id)\n",
    "    print('Sentiments:', sentiments)"
   ]
  },
  {
   "cell_type": "code",
   "execution_count": null,
   "id": "4fa38be1-437b-45a0-8ee6-f05627e54a2f",
   "metadata": {},
   "outputs": [],
   "source": []
  }
 ],
 "metadata": {
  "kernelspec": {
   "display_name": "Python 3 (ipykernel)",
   "language": "python",
   "name": "python3"
  },
  "language_info": {
   "codemirror_mode": {
    "name": "ipython",
    "version": 3
   },
   "file_extension": ".py",
   "mimetype": "text/x-python",
   "name": "python",
   "nbconvert_exporter": "python",
   "pygments_lexer": "ipython3",
   "version": "3.8.8"
  }
 },
 "nbformat": 4,
 "nbformat_minor": 5
}
